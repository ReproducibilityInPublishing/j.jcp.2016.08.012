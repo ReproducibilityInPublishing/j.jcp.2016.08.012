{
 "cells": [
  {
   "cell_type": "code",
   "execution_count": null,
   "metadata": {},
   "outputs": [],
   "source": [
    "reproducibility_data = read.csv(\"./reproducibility.dat\")\n",
    "show(reproducibility_data)\n",
    "#par(mar=c(5.1,4.1,4.1,2.1))\n",
    "par(mar=c(18.1,4.1,4.1,2.1))\n",
    "plot(reproducibility_data$Time, reproducibility_data$Percentage, 's', ylim=c(0,100), xlab=\"Time [Hours]\", ylab=\"Percentage Reproduced\")\n",
    "axis(1,at=reproducibility_data$Time,labels=reproducibility_data$Description, las=2)\n",
    "title(\"Reproduced Portion versus Time\")"
   ]
  }
 ],
 "metadata": {
  "kernelspec": {
   "display_name": "Python 3",
   "language": "python",
   "name": "python3"
  },
  "language_info": {
   "codemirror_mode": {
    "name": "ipython",
    "version": 3
   },
   "file_extension": ".py",
   "mimetype": "text/x-python",
   "name": "python",
   "nbconvert_exporter": "python",
   "pygments_lexer": "ipython3",
   "version": "3.7.1"
  }
 },
 "nbformat": 4,
 "nbformat_minor": 2
}
