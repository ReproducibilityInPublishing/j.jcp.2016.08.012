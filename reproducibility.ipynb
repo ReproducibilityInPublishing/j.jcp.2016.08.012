{
 "cells": [
  {
   "cell_type": "code",
   "execution_count": 1,
   "metadata": {},
   "outputs": [
    {
     "ename": "SyntaxError",
     "evalue": "invalid syntax (<ipython-input-1-d73a41bb3bfc>, line 5)",
     "output_type": "error",
     "traceback": [
      "\u001b[0;36m  File \u001b[0;32m\"<ipython-input-1-d73a41bb3bfc>\"\u001b[0;36m, line \u001b[0;32m5\u001b[0m\n\u001b[0;31m    plot(reproducibility_data$Time, reproducibility_data$Percentage, 's', ylim=c(0,100), xlab=\"Time [Hours]\", ylab=\"Percentage Reproduced\")\u001b[0m\n\u001b[0m                             ^\u001b[0m\n\u001b[0;31mSyntaxError\u001b[0m\u001b[0;31m:\u001b[0m invalid syntax\n"
     ]
    }
   ],
   "source": [
    "reproducibility_data = read.csv(\"./reproducibility.dat\")\n",
    "show(reproducibility_data)\n",
    "#par(mar=c(5.1,4.1,4.1,2.1))\n",
    "par(mar=c(18.1,4.1,4.1,2.1))\n",
    "plot(reproducibility_data$Time, reproducibility_data$Percentage, 's', ylim=c(0,100), xlab=\"Time [Hours]\", ylab=\"Percentage Reproduced\")\n",
    "axis(1,at=reproducibility_data$Time,labels=reproducibility_data$Description, las=2)\n",
    "title(\"Reproduced Portion versus Time\")"
   ]
  },
  {
   "cell_type": "code",
   "execution_count": null,
   "metadata": {},
   "outputs": [],
   "source": [
    " t "
   ]
  }
 ],
 "metadata": {
  "kernelspec": {
   "display_name": "R",
   "language": "R",
   "name": "ir"
  },
  "language_info": {
   "codemirror_mode": {
    "name": "ipython",
    "version": 3
   },
   "file_extension": ".py",
   "mimetype": "text/x-python",
   "name": "python",
   "nbconvert_exporter": "python",
   "pygments_lexer": "ipython3",
   "version": "3.7.1"
  }
 },
 "nbformat": 4,
 "nbformat_minor": 2
}
